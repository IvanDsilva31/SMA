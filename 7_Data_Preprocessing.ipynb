{
  "nbformat": 4,
  "nbformat_minor": 0,
  "metadata": {
    "colab": {
      "provenance": []
    },
    "kernelspec": {
      "name": "python3",
      "display_name": "Python 3"
    },
    "language_info": {
      "name": "python"
    }
  },
  "cells": [
    {
      "cell_type": "markdown",
      "source": [
        "https://www.kaggle.com/datasets/abhijitdahatonde/zomato-restaurants-dataset"
      ],
      "metadata": {
        "id": "DnsLpBGGprtc"
      }
    },
    {
      "cell_type": "code",
      "execution_count": null,
      "metadata": {
        "id": "R7xvDLoA2Xra"
      },
      "outputs": [],
      "source": [
        "import pandas as pd\n",
        "df = pd.read_csv('/content/zomato.csv')"
      ]
    },
    {
      "cell_type": "markdown",
      "source": [
        "1. Dropping missing values"
      ],
      "metadata": {
        "id": "tPfBMr8D22g9"
      }
    },
    {
      "cell_type": "code",
      "source": [
        "# Check for missing values\n",
        "missing_values = df.isnull().sum()\n",
        "print(missing_values)"
      ],
      "metadata": {
        "colab": {
          "base_uri": "https://localhost:8080/"
        },
        "id": "IAc5E9Sn21se",
        "outputId": "30b0f4d6-95aa-41e1-fb0d-a9d4917679cd"
      },
      "execution_count": null,
      "outputs": [
        {
          "output_type": "stream",
          "name": "stdout",
          "text": [
            "Unnamed: 0.1              0\n",
            "Unnamed: 0                0\n",
            "restaurant name           0\n",
            "restaurant type           0\n",
            "rate (out of 5)          68\n",
            "num of ratings            0\n",
            "avg cost (two people)    57\n",
            "online_order              0\n",
            "table booking             0\n",
            "cuisines type             0\n",
            "area                      0\n",
            "local address             0\n",
            "dtype: int64\n"
          ]
        }
      ]
    },
    {
      "cell_type": "code",
      "source": [
        "new_df = df.dropna()"
      ],
      "metadata": {
        "id": "ShLjfI-82z0G"
      },
      "execution_count": null,
      "outputs": []
    },
    {
      "cell_type": "code",
      "source": [
        "print(new_df.isnull().sum())"
      ],
      "metadata": {
        "colab": {
          "base_uri": "https://localhost:8080/"
        },
        "id": "eEF0L2VU3Fb1",
        "outputId": "69d7c8da-86ba-40f4-8393-32cb2d932861"
      },
      "execution_count": null,
      "outputs": [
        {
          "output_type": "stream",
          "name": "stdout",
          "text": [
            "Unnamed: 0.1             0\n",
            "Unnamed: 0               0\n",
            "restaurant name          0\n",
            "restaurant type          0\n",
            "rate (out of 5)          0\n",
            "num of ratings           0\n",
            "avg cost (two people)    0\n",
            "online_order             0\n",
            "table booking            0\n",
            "cuisines type            0\n",
            "area                     0\n",
            "local address            0\n",
            "dtype: int64\n"
          ]
        }
      ]
    },
    {
      "cell_type": "markdown",
      "source": [
        "2. Filling missing values with mean"
      ],
      "metadata": {
        "id": "6FvnUStl3MC1"
      }
    },
    {
      "cell_type": "code",
      "source": [
        "# Check for missing values\n",
        "missing_values = df.isnull().sum()\n",
        "print(missing_values)"
      ],
      "metadata": {
        "colab": {
          "base_uri": "https://localhost:8080/"
        },
        "id": "1QvW0eeD3Lb0",
        "outputId": "2a50b634-4afb-4949-a3b7-44ae7009e3de"
      },
      "execution_count": null,
      "outputs": [
        {
          "output_type": "stream",
          "name": "stdout",
          "text": [
            "Unnamed: 0.1              0\n",
            "Unnamed: 0                0\n",
            "restaurant name           0\n",
            "restaurant type           0\n",
            "rate (out of 5)          68\n",
            "num of ratings            0\n",
            "avg cost (two people)    57\n",
            "online_order              0\n",
            "table booking             0\n",
            "cuisines type             0\n",
            "area                      0\n",
            "local address             0\n",
            "dtype: int64\n"
          ]
        }
      ]
    },
    {
      "cell_type": "code",
      "source": [
        "# Example: Replace missing values in 'Rate' column with median\n",
        "median_rate = df['rate (out of 5)'].median()\n",
        "new_df2 = df['rate (out of 5)'].fillna(median_rate)"
      ],
      "metadata": {
        "id": "06CHW6W03VGU"
      },
      "execution_count": null,
      "outputs": []
    },
    {
      "cell_type": "code",
      "source": [
        "print(new_df2.isnull().sum())"
      ],
      "metadata": {
        "colab": {
          "base_uri": "https://localhost:8080/"
        },
        "id": "1uv_UP-Y3qum",
        "outputId": "94583119-ec49-4ead-a5b3-de73924a5a83"
      },
      "execution_count": null,
      "outputs": [
        {
          "output_type": "stream",
          "name": "stdout",
          "text": [
            "0\n"
          ]
        }
      ]
    },
    {
      "cell_type": "markdown",
      "source": [
        "3. Standardizing Text"
      ],
      "metadata": {
        "id": "JMxKKq2q33HA"
      }
    },
    {
      "cell_type": "code",
      "source": [
        "# Convert restaurant name and cuisines type to lowercase\n",
        "df['restaurant name'] = df['restaurant name'].str.lower()\n",
        "df['cuisines type'] = df['cuisines type'].str.lower()\n",
        "\n",
        "# Remove special characters from restaurant type\n",
        "df['restaurant type'] = df['restaurant type'].str.replace('[^\\w\\s]', '')\n",
        "\n",
        "# Remove extra whitespaces\n",
        "df['restaurant type'] = df['restaurant type'].str.strip()"
      ],
      "metadata": {
        "id": "PADE30R535MJ"
      },
      "execution_count": null,
      "outputs": []
    },
    {
      "cell_type": "markdown",
      "source": [
        "4. Removing Duplicates"
      ],
      "metadata": {
        "id": "qQSrPKBp4Xu3"
      }
    },
    {
      "cell_type": "code",
      "source": [
        "# Check for duplicate rows\n",
        "duplicate_rows = df.duplicated().sum()\n",
        "print(\"Number of duplicate rows:\", duplicate_rows)\n",
        "\n",
        "# Remove duplicate rows\n",
        "newdf3 = df.drop_duplicates()\n"
      ],
      "metadata": {
        "colab": {
          "base_uri": "https://localhost:8080/"
        },
        "id": "m5BUB4Uf4Z85",
        "outputId": "1a704743-558d-4597-d850-39c2d71ad9e4"
      },
      "execution_count": null,
      "outputs": [
        {
          "output_type": "stream",
          "name": "stdout",
          "text": [
            "Number of duplicate rows: 0\n"
          ]
        }
      ]
    },
    {
      "cell_type": "markdown",
      "source": [
        "5. Normalization"
      ],
      "metadata": {
        "id": "uxVFXcTZ4j9P"
      }
    },
    {
      "cell_type": "code",
      "source": [
        "from sklearn.preprocessing import MinMaxScaler\n",
        "\n",
        "# Normalize 'Avg Cost' column\n",
        "scaler = MinMaxScaler()\n",
        "df['Avg Cost Normalized'] = scaler.fit_transform(df[['avg cost (two people)']])\n"
      ],
      "metadata": {
        "id": "BwY1lxd54tgb"
      },
      "execution_count": null,
      "outputs": []
    },
    {
      "cell_type": "code",
      "source": [
        "df.head(5)"
      ],
      "metadata": {
        "colab": {
          "base_uri": "https://localhost:8080/",
          "height": 463
        },
        "id": "1FEGCDOI4xoX",
        "outputId": "c55bccb1-f929-4e99-8e15-974d04bdef13"
      },
      "execution_count": null,
      "outputs": [
        {
          "output_type": "execute_result",
          "data": {
            "text/plain": [
              "   Unnamed: 0.1  Unnamed: 0     restaurant name restaurant type  \\\n",
              "0             0           0        #feeltheroll     Quick Bites   \n",
              "1             1           1          #l-81 cafe     Quick Bites   \n",
              "2             2           2             #refuel            Cafe   \n",
              "3             3           3  '@ biryani central   Casual Dining   \n",
              "4             4           4          '@ the bbq   Casual Dining   \n",
              "\n",
              "   rate (out of 5)  num of ratings  avg cost (two people) online_order  \\\n",
              "0              3.4               7                  200.0           No   \n",
              "1              3.9              48                  400.0          Yes   \n",
              "2              3.7              37                  400.0          Yes   \n",
              "3              2.7             135                  550.0          Yes   \n",
              "4              2.8              40                  700.0          Yes   \n",
              "\n",
              "  table booking                                      cuisines type  ...  \\\n",
              "0            No                                          fast food  ...   \n",
              "1            No                               fast food, beverages  ...   \n",
              "2            No                                    cafe, beverages  ...   \n",
              "3            No                          biryani, mughlai, chinese  ...   \n",
              "4            No  bbq, continental, north indian, chinese, bever...  ...   \n",
              "\n",
              "  Cuisine_tibetan, nepalese Cuisine_tibetan, nepalese, momos  \\\n",
              "0                     False                            False   \n",
              "1                     False                            False   \n",
              "2                     False                            False   \n",
              "3                     False                            False   \n",
              "4                     False                            False   \n",
              "\n",
              "   Cuisine_turkish, chinese  Cuisine_turkish, desserts  \\\n",
              "0                     False                      False   \n",
              "1                     False                      False   \n",
              "2                     False                      False   \n",
              "3                     False                      False   \n",
              "4                     False                      False   \n",
              "\n",
              "   Cuisine_turkish, fast food, biryani, chinese  Cuisine_turkish, rolls  \\\n",
              "0                                         False                   False   \n",
              "1                                         False                   False   \n",
              "2                                         False                   False   \n",
              "3                                         False                   False   \n",
              "4                                         False                   False   \n",
              "\n",
              "   Cuisine_vietnamese  Cuisine_vietnamese, salad  \\\n",
              "0               False                      False   \n",
              "1               False                      False   \n",
              "2               False                      False   \n",
              "3               False                      False   \n",
              "4               False                      False   \n",
              "\n",
              "   Cuisine_vietnamese, thai, burmese, japanese  Avg Cost Normalized  \n",
              "0                                        False             0.026846  \n",
              "1                                        False             0.060403  \n",
              "2                                        False             0.060403  \n",
              "3                                        False             0.085570  \n",
              "4                                        False             0.110738  \n",
              "\n",
              "[5 rows x 2188 columns]"
            ],
            "text/html": [
              "\n",
              "  <div id=\"df-9190787a-f296-409f-85ad-7deae1ab956f\" class=\"colab-df-container\">\n",
              "    <div>\n",
              "<style scoped>\n",
              "    .dataframe tbody tr th:only-of-type {\n",
              "        vertical-align: middle;\n",
              "    }\n",
              "\n",
              "    .dataframe tbody tr th {\n",
              "        vertical-align: top;\n",
              "    }\n",
              "\n",
              "    .dataframe thead th {\n",
              "        text-align: right;\n",
              "    }\n",
              "</style>\n",
              "<table border=\"1\" class=\"dataframe\">\n",
              "  <thead>\n",
              "    <tr style=\"text-align: right;\">\n",
              "      <th></th>\n",
              "      <th>Unnamed: 0.1</th>\n",
              "      <th>Unnamed: 0</th>\n",
              "      <th>restaurant name</th>\n",
              "      <th>restaurant type</th>\n",
              "      <th>rate (out of 5)</th>\n",
              "      <th>num of ratings</th>\n",
              "      <th>avg cost (two people)</th>\n",
              "      <th>online_order</th>\n",
              "      <th>table booking</th>\n",
              "      <th>cuisines type</th>\n",
              "      <th>...</th>\n",
              "      <th>Cuisine_tibetan, nepalese</th>\n",
              "      <th>Cuisine_tibetan, nepalese, momos</th>\n",
              "      <th>Cuisine_turkish, chinese</th>\n",
              "      <th>Cuisine_turkish, desserts</th>\n",
              "      <th>Cuisine_turkish, fast food, biryani, chinese</th>\n",
              "      <th>Cuisine_turkish, rolls</th>\n",
              "      <th>Cuisine_vietnamese</th>\n",
              "      <th>Cuisine_vietnamese, salad</th>\n",
              "      <th>Cuisine_vietnamese, thai, burmese, japanese</th>\n",
              "      <th>Avg Cost Normalized</th>\n",
              "    </tr>\n",
              "  </thead>\n",
              "  <tbody>\n",
              "    <tr>\n",
              "      <th>0</th>\n",
              "      <td>0</td>\n",
              "      <td>0</td>\n",
              "      <td>#feeltheroll</td>\n",
              "      <td>Quick Bites</td>\n",
              "      <td>3.4</td>\n",
              "      <td>7</td>\n",
              "      <td>200.0</td>\n",
              "      <td>No</td>\n",
              "      <td>No</td>\n",
              "      <td>fast food</td>\n",
              "      <td>...</td>\n",
              "      <td>False</td>\n",
              "      <td>False</td>\n",
              "      <td>False</td>\n",
              "      <td>False</td>\n",
              "      <td>False</td>\n",
              "      <td>False</td>\n",
              "      <td>False</td>\n",
              "      <td>False</td>\n",
              "      <td>False</td>\n",
              "      <td>0.026846</td>\n",
              "    </tr>\n",
              "    <tr>\n",
              "      <th>1</th>\n",
              "      <td>1</td>\n",
              "      <td>1</td>\n",
              "      <td>#l-81 cafe</td>\n",
              "      <td>Quick Bites</td>\n",
              "      <td>3.9</td>\n",
              "      <td>48</td>\n",
              "      <td>400.0</td>\n",
              "      <td>Yes</td>\n",
              "      <td>No</td>\n",
              "      <td>fast food, beverages</td>\n",
              "      <td>...</td>\n",
              "      <td>False</td>\n",
              "      <td>False</td>\n",
              "      <td>False</td>\n",
              "      <td>False</td>\n",
              "      <td>False</td>\n",
              "      <td>False</td>\n",
              "      <td>False</td>\n",
              "      <td>False</td>\n",
              "      <td>False</td>\n",
              "      <td>0.060403</td>\n",
              "    </tr>\n",
              "    <tr>\n",
              "      <th>2</th>\n",
              "      <td>2</td>\n",
              "      <td>2</td>\n",
              "      <td>#refuel</td>\n",
              "      <td>Cafe</td>\n",
              "      <td>3.7</td>\n",
              "      <td>37</td>\n",
              "      <td>400.0</td>\n",
              "      <td>Yes</td>\n",
              "      <td>No</td>\n",
              "      <td>cafe, beverages</td>\n",
              "      <td>...</td>\n",
              "      <td>False</td>\n",
              "      <td>False</td>\n",
              "      <td>False</td>\n",
              "      <td>False</td>\n",
              "      <td>False</td>\n",
              "      <td>False</td>\n",
              "      <td>False</td>\n",
              "      <td>False</td>\n",
              "      <td>False</td>\n",
              "      <td>0.060403</td>\n",
              "    </tr>\n",
              "    <tr>\n",
              "      <th>3</th>\n",
              "      <td>3</td>\n",
              "      <td>3</td>\n",
              "      <td>'@ biryani central</td>\n",
              "      <td>Casual Dining</td>\n",
              "      <td>2.7</td>\n",
              "      <td>135</td>\n",
              "      <td>550.0</td>\n",
              "      <td>Yes</td>\n",
              "      <td>No</td>\n",
              "      <td>biryani, mughlai, chinese</td>\n",
              "      <td>...</td>\n",
              "      <td>False</td>\n",
              "      <td>False</td>\n",
              "      <td>False</td>\n",
              "      <td>False</td>\n",
              "      <td>False</td>\n",
              "      <td>False</td>\n",
              "      <td>False</td>\n",
              "      <td>False</td>\n",
              "      <td>False</td>\n",
              "      <td>0.085570</td>\n",
              "    </tr>\n",
              "    <tr>\n",
              "      <th>4</th>\n",
              "      <td>4</td>\n",
              "      <td>4</td>\n",
              "      <td>'@ the bbq</td>\n",
              "      <td>Casual Dining</td>\n",
              "      <td>2.8</td>\n",
              "      <td>40</td>\n",
              "      <td>700.0</td>\n",
              "      <td>Yes</td>\n",
              "      <td>No</td>\n",
              "      <td>bbq, continental, north indian, chinese, bever...</td>\n",
              "      <td>...</td>\n",
              "      <td>False</td>\n",
              "      <td>False</td>\n",
              "      <td>False</td>\n",
              "      <td>False</td>\n",
              "      <td>False</td>\n",
              "      <td>False</td>\n",
              "      <td>False</td>\n",
              "      <td>False</td>\n",
              "      <td>False</td>\n",
              "      <td>0.110738</td>\n",
              "    </tr>\n",
              "  </tbody>\n",
              "</table>\n",
              "<p>5 rows × 2188 columns</p>\n",
              "</div>\n",
              "    <div class=\"colab-df-buttons\">\n",
              "\n",
              "  <div class=\"colab-df-container\">\n",
              "    <button class=\"colab-df-convert\" onclick=\"convertToInteractive('df-9190787a-f296-409f-85ad-7deae1ab956f')\"\n",
              "            title=\"Convert this dataframe to an interactive table.\"\n",
              "            style=\"display:none;\">\n",
              "\n",
              "  <svg xmlns=\"http://www.w3.org/2000/svg\" height=\"24px\" viewBox=\"0 -960 960 960\">\n",
              "    <path d=\"M120-120v-720h720v720H120Zm60-500h600v-160H180v160Zm220 220h160v-160H400v160Zm0 220h160v-160H400v160ZM180-400h160v-160H180v160Zm440 0h160v-160H620v160ZM180-180h160v-160H180v160Zm440 0h160v-160H620v160Z\"/>\n",
              "  </svg>\n",
              "    </button>\n",
              "\n",
              "  <style>\n",
              "    .colab-df-container {\n",
              "      display:flex;\n",
              "      gap: 12px;\n",
              "    }\n",
              "\n",
              "    .colab-df-convert {\n",
              "      background-color: #E8F0FE;\n",
              "      border: none;\n",
              "      border-radius: 50%;\n",
              "      cursor: pointer;\n",
              "      display: none;\n",
              "      fill: #1967D2;\n",
              "      height: 32px;\n",
              "      padding: 0 0 0 0;\n",
              "      width: 32px;\n",
              "    }\n",
              "\n",
              "    .colab-df-convert:hover {\n",
              "      background-color: #E2EBFA;\n",
              "      box-shadow: 0px 1px 2px rgba(60, 64, 67, 0.3), 0px 1px 3px 1px rgba(60, 64, 67, 0.15);\n",
              "      fill: #174EA6;\n",
              "    }\n",
              "\n",
              "    .colab-df-buttons div {\n",
              "      margin-bottom: 4px;\n",
              "    }\n",
              "\n",
              "    [theme=dark] .colab-df-convert {\n",
              "      background-color: #3B4455;\n",
              "      fill: #D2E3FC;\n",
              "    }\n",
              "\n",
              "    [theme=dark] .colab-df-convert:hover {\n",
              "      background-color: #434B5C;\n",
              "      box-shadow: 0px 1px 3px 1px rgba(0, 0, 0, 0.15);\n",
              "      filter: drop-shadow(0px 1px 2px rgba(0, 0, 0, 0.3));\n",
              "      fill: #FFFFFF;\n",
              "    }\n",
              "  </style>\n",
              "\n",
              "    <script>\n",
              "      const buttonEl =\n",
              "        document.querySelector('#df-9190787a-f296-409f-85ad-7deae1ab956f button.colab-df-convert');\n",
              "      buttonEl.style.display =\n",
              "        google.colab.kernel.accessAllowed ? 'block' : 'none';\n",
              "\n",
              "      async function convertToInteractive(key) {\n",
              "        const element = document.querySelector('#df-9190787a-f296-409f-85ad-7deae1ab956f');\n",
              "        const dataTable =\n",
              "          await google.colab.kernel.invokeFunction('convertToInteractive',\n",
              "                                                    [key], {});\n",
              "        if (!dataTable) return;\n",
              "\n",
              "        const docLinkHtml = 'Like what you see? Visit the ' +\n",
              "          '<a target=\"_blank\" href=https://colab.research.google.com/notebooks/data_table.ipynb>data table notebook</a>'\n",
              "          + ' to learn more about interactive tables.';\n",
              "        element.innerHTML = '';\n",
              "        dataTable['output_type'] = 'display_data';\n",
              "        await google.colab.output.renderOutput(dataTable, element);\n",
              "        const docLink = document.createElement('div');\n",
              "        docLink.innerHTML = docLinkHtml;\n",
              "        element.appendChild(docLink);\n",
              "      }\n",
              "    </script>\n",
              "  </div>\n",
              "\n",
              "\n",
              "<div id=\"df-3b846543-e39c-4cd0-9042-03b5249777df\">\n",
              "  <button class=\"colab-df-quickchart\" onclick=\"quickchart('df-3b846543-e39c-4cd0-9042-03b5249777df')\"\n",
              "            title=\"Suggest charts\"\n",
              "            style=\"display:none;\">\n",
              "\n",
              "<svg xmlns=\"http://www.w3.org/2000/svg\" height=\"24px\"viewBox=\"0 0 24 24\"\n",
              "     width=\"24px\">\n",
              "    <g>\n",
              "        <path d=\"M19 3H5c-1.1 0-2 .9-2 2v14c0 1.1.9 2 2 2h14c1.1 0 2-.9 2-2V5c0-1.1-.9-2-2-2zM9 17H7v-7h2v7zm4 0h-2V7h2v10zm4 0h-2v-4h2v4z\"/>\n",
              "    </g>\n",
              "</svg>\n",
              "  </button>\n",
              "\n",
              "<style>\n",
              "  .colab-df-quickchart {\n",
              "      --bg-color: #E8F0FE;\n",
              "      --fill-color: #1967D2;\n",
              "      --hover-bg-color: #E2EBFA;\n",
              "      --hover-fill-color: #174EA6;\n",
              "      --disabled-fill-color: #AAA;\n",
              "      --disabled-bg-color: #DDD;\n",
              "  }\n",
              "\n",
              "  [theme=dark] .colab-df-quickchart {\n",
              "      --bg-color: #3B4455;\n",
              "      --fill-color: #D2E3FC;\n",
              "      --hover-bg-color: #434B5C;\n",
              "      --hover-fill-color: #FFFFFF;\n",
              "      --disabled-bg-color: #3B4455;\n",
              "      --disabled-fill-color: #666;\n",
              "  }\n",
              "\n",
              "  .colab-df-quickchart {\n",
              "    background-color: var(--bg-color);\n",
              "    border: none;\n",
              "    border-radius: 50%;\n",
              "    cursor: pointer;\n",
              "    display: none;\n",
              "    fill: var(--fill-color);\n",
              "    height: 32px;\n",
              "    padding: 0;\n",
              "    width: 32px;\n",
              "  }\n",
              "\n",
              "  .colab-df-quickchart:hover {\n",
              "    background-color: var(--hover-bg-color);\n",
              "    box-shadow: 0 1px 2px rgba(60, 64, 67, 0.3), 0 1px 3px 1px rgba(60, 64, 67, 0.15);\n",
              "    fill: var(--button-hover-fill-color);\n",
              "  }\n",
              "\n",
              "  .colab-df-quickchart-complete:disabled,\n",
              "  .colab-df-quickchart-complete:disabled:hover {\n",
              "    background-color: var(--disabled-bg-color);\n",
              "    fill: var(--disabled-fill-color);\n",
              "    box-shadow: none;\n",
              "  }\n",
              "\n",
              "  .colab-df-spinner {\n",
              "    border: 2px solid var(--fill-color);\n",
              "    border-color: transparent;\n",
              "    border-bottom-color: var(--fill-color);\n",
              "    animation:\n",
              "      spin 1s steps(1) infinite;\n",
              "  }\n",
              "\n",
              "  @keyframes spin {\n",
              "    0% {\n",
              "      border-color: transparent;\n",
              "      border-bottom-color: var(--fill-color);\n",
              "      border-left-color: var(--fill-color);\n",
              "    }\n",
              "    20% {\n",
              "      border-color: transparent;\n",
              "      border-left-color: var(--fill-color);\n",
              "      border-top-color: var(--fill-color);\n",
              "    }\n",
              "    30% {\n",
              "      border-color: transparent;\n",
              "      border-left-color: var(--fill-color);\n",
              "      border-top-color: var(--fill-color);\n",
              "      border-right-color: var(--fill-color);\n",
              "    }\n",
              "    40% {\n",
              "      border-color: transparent;\n",
              "      border-right-color: var(--fill-color);\n",
              "      border-top-color: var(--fill-color);\n",
              "    }\n",
              "    60% {\n",
              "      border-color: transparent;\n",
              "      border-right-color: var(--fill-color);\n",
              "    }\n",
              "    80% {\n",
              "      border-color: transparent;\n",
              "      border-right-color: var(--fill-color);\n",
              "      border-bottom-color: var(--fill-color);\n",
              "    }\n",
              "    90% {\n",
              "      border-color: transparent;\n",
              "      border-bottom-color: var(--fill-color);\n",
              "    }\n",
              "  }\n",
              "</style>\n",
              "\n",
              "  <script>\n",
              "    async function quickchart(key) {\n",
              "      const quickchartButtonEl =\n",
              "        document.querySelector('#' + key + ' button');\n",
              "      quickchartButtonEl.disabled = true;  // To prevent multiple clicks.\n",
              "      quickchartButtonEl.classList.add('colab-df-spinner');\n",
              "      try {\n",
              "        const charts = await google.colab.kernel.invokeFunction(\n",
              "            'suggestCharts', [key], {});\n",
              "      } catch (error) {\n",
              "        console.error('Error during call to suggestCharts:', error);\n",
              "      }\n",
              "      quickchartButtonEl.classList.remove('colab-df-spinner');\n",
              "      quickchartButtonEl.classList.add('colab-df-quickchart-complete');\n",
              "    }\n",
              "    (() => {\n",
              "      let quickchartButtonEl =\n",
              "        document.querySelector('#df-3b846543-e39c-4cd0-9042-03b5249777df button');\n",
              "      quickchartButtonEl.style.display =\n",
              "        google.colab.kernel.accessAllowed ? 'block' : 'none';\n",
              "    })();\n",
              "  </script>\n",
              "</div>\n",
              "\n",
              "    </div>\n",
              "  </div>\n"
            ],
            "application/vnd.google.colaboratory.intrinsic+json": {
              "type": "dataframe",
              "variable_name": "df"
            }
          },
          "metadata": {},
          "execution_count": 15
        }
      ]
    },
    {
      "cell_type": "markdown",
      "source": [
        "6. Dropping unneccesary columns"
      ],
      "metadata": {
        "id": "YBDLHfeQ5Rrv"
      }
    },
    {
      "cell_type": "code",
      "source": [
        "# Remove 'Cuisines Type' column (assuming it's not needed anymore)\n",
        "df.drop('Cuisines Type', axis=1, inplace=True)"
      ],
      "metadata": {
        "id": "_5GSqQfV5Vl2"
      },
      "execution_count": null,
      "outputs": []
    },
    {
      "cell_type": "code",
      "source": [
        "import re\n",
        "import nltk\n",
        "from nltk.corpus import stopwords\n",
        "\n",
        "nltk.download('stopwords')\n",
        "\n",
        "def preprocess_text(text):\n",
        "    # Convert text to lowercase\n",
        "    text = text.lower()\n",
        "    # Remove special characters and digits\n",
        "    text = re.sub(r'[^\\w\\s]', '', text)\n",
        "    text = re.sub(r'\\d+', '', text)\n",
        "    # Remove stopwords\n",
        "    stop_words = set(stopwords.words('english'))\n",
        "    text = ' '.join([word for word in text.split() if word not in stop_words])\n",
        "    # Remove extra whitespaces\n",
        "    text = ' '.join(text.split())\n",
        "    return text\n"
      ],
      "metadata": {
        "id": "-JZEo6vSpwwk"
      },
      "execution_count": null,
      "outputs": []
    },
    {
      "cell_type": "code",
      "source": [
        "# Apply preprocess_text function to 'review' column\n",
        "df['clean_review'] = df['review'].apply(preprocess_text)\n",
        "\n",
        "# Display the preprocessed data\n",
        "print(flipkart_data[['review', 'clean_review']].head())"
      ],
      "metadata": {
        "id": "w_zlBdrdp4cS"
      },
      "execution_count": null,
      "outputs": []
    }
  ]
}